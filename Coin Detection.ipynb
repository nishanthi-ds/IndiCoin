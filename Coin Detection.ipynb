{
  "nbformat": 4,
  "nbformat_minor": 0,
  "metadata": {
    "colab": {
      "provenance": [],
      "gpuType": "T4"
    },
    "kernelspec": {
      "name": "python3",
      "display_name": "Python 3"
    },
    "language_info": {
      "name": "python"
    },
    "accelerator": "GPU"
  },
  "cells": [
    {
      "cell_type": "markdown",
      "source": [
        "# **YOLO Coin Detection Pipeline**"
      ],
      "metadata": {
        "id": "ygrcCVAwwHLE"
      }
    },
    {
      "cell_type": "markdown",
      "source": [
        "*   Environment setup\n",
        "*   Dataset Extracion\n",
        "*   Splitting into train/val\n",
        "*   YOLO config file creation\n",
        "*   Training, prediction, and evaluation\n",
        "*   Exporting and downloading the trained model\n",
        "\n",
        "\n",
        "\n",
        "\n",
        "\n",
        "\n",
        "\n",
        "\n",
        "\n",
        "\n",
        "\n",
        "\n",
        "\n",
        "\n",
        "\n"
      ],
      "metadata": {
        "id": "sX8N3KhPv1EG"
      }
    },
    {
      "cell_type": "markdown",
      "source": [
        "# **Step 1: Setup GPU and Install Dependencies**"
      ],
      "metadata": {
        "id": "TRfIhdmov6gC"
      }
    },
    {
      "cell_type": "code",
      "source": [
        "!nvidia-smi"
      ],
      "metadata": {
        "id": "l5RWMUlIdPZM"
      },
      "execution_count": 1,
      "outputs": []
    },
    {
      "cell_type": "code",
      "source": [
        "# install ultralytics\n",
        "!pip install ultralytics"
      ],
      "metadata": {
        "id": "0aOo7EukYpE5"
      },
      "execution_count": 1,
      "outputs": []
    },
    {
      "cell_type": "markdown",
      "source": [
        "# **Step 2: Dataset Extraction**"
      ],
      "metadata": {
        "id": "eRj9nvnuxaYz"
      }
    },
    {
      "cell_type": "code",
      "source": [
        "# Unzip images to a unzip_data folder\n",
        "!unzip -q /content/data.zip -d /content/unzip_data"
      ],
      "metadata": {
        "id": "Mw_8oPMgYHH3"
      },
      "execution_count": 1,
      "outputs": []
    },
    {
      "cell_type": "markdown",
      "source": [
        "# **Step 3: Train/Validation Split**"
      ],
      "metadata": {
        "id": "dcE8I34txoAQ"
      }
    },
    {
      "cell_type": "code",
      "execution_count": 1,
      "metadata": {
        "id": "BdZH3LZaXrtO"
      },
      "outputs": [],
      "source": [
        "# Split between train and val folders\n",
        "\n",
        "from pathlib import Path\n",
        "import random\n",
        "import os\n",
        "import sys\n",
        "import shutil\n",
        "import argparse\n",
        "\n",
        "data_path = '/content/unzip_data'\n",
        "train_percent = 0.9\n",
        "\n",
        "# Check for valid entries\n",
        "if not os.path.isdir(data_path):\n",
        "   print('Directory specified by --datapath not found. Verify the path is correct (and uses double back slashes if on Windows) and try again.')\n",
        "   sys.exit(0)\n",
        "if train_percent < .01 or train_percent > 0.99:\n",
        "   print('Invalid entry for train_pct. Please enter a number between .01 and .99.')\n",
        "   sys.exit(0)\n",
        "val_percent = 1 - train_percent\n",
        "\n",
        "# Define path to input dataset\n",
        "input_image_path = os.path.join(data_path,'images')\n",
        "input_label_path = os.path.join(data_path,'labels')\n",
        "\n",
        "# Define paths to image and annotation folders\n",
        "cwd = os.getcwd()\n",
        "train_img_path = os.path.join(cwd,'data/train/images')\n",
        "train_txt_path = os.path.join(cwd,'data/train/labels')\n",
        "val_img_path = os.path.join(cwd,'data/validation/images')\n",
        "val_txt_path = os.path.join(cwd,'data/validation/labels')\n",
        "\n",
        "# Create folders if they don't already exist\n",
        "for dir_path in [train_img_path, train_txt_path, val_img_path, val_txt_path]:\n",
        "   if not os.path.exists(dir_path):\n",
        "      os.makedirs(dir_path)\n",
        "      print(f'Created folder at {dir_path}.')\n",
        "\n",
        "\n",
        "# Get list of all images and annotation files\n",
        "img_file_list = [path for path in Path(input_image_path).rglob('*')]\n",
        "txt_file_list = [path for path in Path(input_label_path).rglob('*')]\n",
        "\n",
        "print(f'Number of image files: {len(img_file_list)}')\n",
        "print(f'Number of annotation files: {len(txt_file_list)}')\n",
        "\n",
        "# Determine number of files to move to each folder\n",
        "file_num = len(img_file_list)\n",
        "train_num = int(file_num*train_percent)\n",
        "val_num = file_num - train_num\n",
        "print('Images moving to train: %d' % train_num)\n",
        "print('Images moving to validation: %d' % val_num)\n",
        "\n",
        "# Select files randomly and copy them to train or val folders\n",
        "for i, set_num in enumerate([train_num, val_num]):\n",
        "  for ii in range(set_num):\n",
        "    img_path = random.choice(img_file_list)\n",
        "    img_fn = img_path.name\n",
        "    base_fn = img_path.stem\n",
        "    txt_fn = base_fn + '.txt'\n",
        "    txt_path = os.path.join(input_label_path,txt_fn)\n",
        "\n",
        "    if i == 0: # Copy first set of files to train folders\n",
        "      new_img_path, new_txt_path = train_img_path, train_txt_path\n",
        "    elif i == 1: # Copy second set of files to the validation folders\n",
        "      new_img_path, new_txt_path = val_img_path, val_txt_path\n",
        "\n",
        "    shutil.copy(img_path, os.path.join(new_img_path,img_fn))\n",
        "    #os.rename(img_path, os.path.join(new_img_path,img_fn))\n",
        "    if os.path.exists(txt_path): # If txt path does not exist, this is a background image, so skip txt file\n",
        "      shutil.copy(txt_path,os.path.join(new_txt_path,txt_fn))\n",
        "      #os.rename(txt_path,os.path.join(new_txt_path,txt_fn))\n",
        "\n",
        "    img_file_list.remove(img_path)"
      ]
    },
    {
      "cell_type": "markdown",
      "source": [
        "# **Step 4: Create data.yaml for YOLO Training**"
      ],
      "metadata": {
        "id": "cwTZi5KryAA-"
      }
    },
    {
      "cell_type": "code",
      "source": [
        "# Python function to automatically create data.yaml config file\n",
        "# 1. Reads \"classes.txt\" file to get list of class names\n",
        "# 2. Creates data dictionary with correct paths to folders, number of classes, and names of classes\n",
        "# 3. Writes data in YAML format to data.yaml\n",
        "\n",
        "import yaml\n",
        "import os\n",
        "\n",
        "def create_data_yaml(path_to_classes_txt, path_to_data_yaml):\n",
        "\n",
        "  # Read class.txt to get class names\n",
        "  if not os.path.exists(path_to_classes_txt):\n",
        "    print(f'classes.txt file not found! Please create a classes.txt labelmap and move it to {path_to_classes_txt}')\n",
        "    return\n",
        "  with open(path_to_classes_txt, 'r') as f:\n",
        "    classes = []\n",
        "    for line in f.readlines():\n",
        "      if len(line.strip()) == 0: continue\n",
        "      classes.append(line.strip())\n",
        "  number_of_classes = len(classes)\n",
        "\n",
        "  # Create data dictionary\n",
        "  data = {\n",
        "      'path': '/content/data',\n",
        "      'train': 'train/images',\n",
        "      'val': 'validation/images',\n",
        "      'nc': number_of_classes,\n",
        "      'names': classes\n",
        "  }\n",
        "\n",
        "  # Write data to YAML file\n",
        "  with open(path_to_data_yaml, 'w') as f:\n",
        "    yaml.dump(data, f, sort_keys=False)\n",
        "  print(f'Created config file at {path_to_data_yaml}')\n",
        "\n",
        "  return\n",
        "\n",
        "# Define path to classes.txt and run function\n",
        "path_to_classes_txt = '/content/unzip_data/classes.txt'\n",
        "path_to_data_yaml = '/content/data.yaml'\n",
        "\n",
        "create_data_yaml(path_to_classes_txt, path_to_data_yaml)\n",
        "\n",
        "print('\\nFile contents:\\n')\n",
        "!cat /content/data.yaml"
      ],
      "metadata": {
        "id": "0SavM9R8YxE0"
      },
      "execution_count": 1,
      "outputs": []
    },
    {
      "cell_type": "markdown",
      "source": [
        "# **Step 5: Train YOLOv11s Model**"
      ],
      "metadata": {
        "id": "B4sGmtwiyG8A"
      }
    },
    {
      "cell_type": "code",
      "source": [
        "!yolo detect train data=/content/data.yaml model=yolo11s.pt epochs=30 imgsz=640"
      ],
      "metadata": {
        "id": "BmFx7yCjaray"
      },
      "execution_count": 2,
      "outputs": []
    },
    {
      "cell_type": "markdown",
      "source": [
        "# **Step 6: Make Predictions**"
      ],
      "metadata": {
        "id": "oSw09n92yfaN"
      }
    },
    {
      "cell_type": "code",
      "source": [
        "!yolo detect predict model=runs/detect/train/weights/best.pt source=data/validation/images save=True"
      ],
      "metadata": {
        "id": "D3dsxh_N3tMc"
      },
      "execution_count": 3,
      "outputs": []
    },
    {
      "cell_type": "markdown",
      "source": [
        "# **Step 7: Visualize Predictions**"
      ],
      "metadata": {
        "id": "rHzEkVX2yqlc"
      }
    },
    {
      "cell_type": "code",
      "source": [
        "import glob\n",
        "from IPython.display import Image, display\n",
        "for image_path in glob.glob(f'/content/runs/detect/predict/*.jpg')[:10]:\n",
        "  display(Image(filename=image_path, height=400))\n",
        "  print('\\n')"
      ],
      "metadata": {
        "id": "ElE4QXQBhULF"
      },
      "execution_count": 4,
      "outputs": []
    },
    {
      "cell_type": "markdown",
      "source": [
        "# **Step 9: Save and Download Trained Model**"
      ],
      "metadata": {
        "id": "B-0c1eMJy8Ar"
      }
    },
    {
      "cell_type": "code",
      "source": [
        "# Create \"my_model\" folder to store model weights and train results\n",
        "!mkdir /content/my_model\n",
        "!cp /content/runs/detect/train/weights/best.pt /content/my_model/my_model.pt\n",
        "!cp -r /content/runs/detect/train /content/my_model\n",
        "\n",
        "# Zip into \"my_model.zip\"\n",
        "%cd my_model\n",
        "!zip /content/my_model.zip my_model.pt\n",
        "!zip -r /content/my_model.zip train\n",
        "%cd /content"
      ],
      "metadata": {
        "id": "SMaxavqKtQHL"
      },
      "execution_count": null,
      "outputs": []
    },
    {
      "cell_type": "code",
      "source": [
        "# This takes forever for some reason, you can also just download the model from the sidebar\n",
        "from google.colab import files\n",
        "\n",
        "files.download('/content/my_model.zip')"
      ],
      "metadata": {
        "id": "QRF5IZ5VtTiq"
      },
      "execution_count": null,
      "outputs": []
    }
  ]
}